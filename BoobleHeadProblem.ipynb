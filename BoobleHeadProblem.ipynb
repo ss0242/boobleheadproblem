{
 "cells": [
  {
   "cell_type": "code",
   "execution_count": 1,
   "metadata": {},
   "outputs": [],
   "source": [
    "import numpy as np\n",
    "import pandas as pd\n",
    "from sklearn import preprocessing\n",
    "from sklearn.linear_model import Ridge, RidgeCV, LassoCV\n",
    "from sklearn import linear_model\n",
    "from sklearn.metrics import mean_squared_error"
   ]
  },
  {
   "cell_type": "code",
   "execution_count": 2,
   "metadata": {},
   "outputs": [],
   "source": [
    "df = pd.read_csv(\"dodgers_training.csv\")"
   ]
  },
  {
   "cell_type": "code",
   "execution_count": 3,
   "metadata": {},
   "outputs": [
    {
     "data": {
      "text/plain": [
       "(56, 13)"
      ]
     },
     "execution_count": 3,
     "metadata": {},
     "output_type": "execute_result"
    }
   ],
   "source": [
    "df.shape"
   ]
  },
  {
   "cell_type": "markdown",
   "metadata": {},
   "source": [
    "The training dataset contains 56 rows and 13 columns"
   ]
  },
  {
   "cell_type": "code",
   "execution_count": 4,
   "metadata": {},
   "outputs": [],
   "source": [
    "dodgers_training_X = df[[\"month\",\"day_of_week\",\"temp\",\"skies\",\"bobblehead\"]] # X refers to the predictors"
   ]
  },
  {
   "cell_type": "code",
   "execution_count": 5,
   "metadata": {},
   "outputs": [],
   "source": [
    "dodgers_training_Y = df[[\"attend\"]] #Y refers to the target variable"
   ]
  },
  {
   "cell_type": "code",
   "execution_count": 6,
   "metadata": {},
   "outputs": [
    {
     "data": {
      "text/plain": [
       "(56, 5)"
      ]
     },
     "execution_count": 6,
     "metadata": {},
     "output_type": "execute_result"
    }
   ],
   "source": [
    "dodgers_training_X.shape"
   ]
  },
  {
   "cell_type": "markdown",
   "metadata": {},
   "source": [
    "There are 5 columns set as predictors"
   ]
  },
  {
   "cell_type": "code",
   "execution_count": 7,
   "metadata": {},
   "outputs": [
    {
     "data": {
      "text/plain": [
       "(56, 1)"
      ]
     },
     "execution_count": 7,
     "metadata": {},
     "output_type": "execute_result"
    }
   ],
   "source": [
    "dodgers_training_Y.shape"
   ]
  },
  {
   "cell_type": "markdown",
   "metadata": {},
   "source": [
    "This is the dataset for target variable"
   ]
  },
  {
   "cell_type": "code",
   "execution_count": 8,
   "metadata": {},
   "outputs": [],
   "source": [
    "#performing one hot encoding of categorical variables for training dataset\n",
    "dodgers_training_X_ohe = pd.get_dummies(dodgers_training_X)"
   ]
  },
  {
   "cell_type": "code",
   "execution_count": 9,
   "metadata": {},
   "outputs": [
    {
     "data": {
      "text/plain": [
       "(56, 19)"
      ]
     },
     "execution_count": 9,
     "metadata": {},
     "output_type": "execute_result"
    }
   ],
   "source": [
    "dodgers_training_X_ohe.shape"
   ]
  },
  {
   "cell_type": "markdown",
   "metadata": {},
   "source": [
    "The above dataset contains 19 columns"
   ]
  },
  {
   "cell_type": "code",
   "execution_count": 10,
   "metadata": {},
   "outputs": [],
   "source": [
    "scaler = preprocessing.StandardScaler().fit(dodgers_training_X_ohe)"
   ]
  },
  {
   "cell_type": "code",
   "execution_count": 11,
   "metadata": {},
   "outputs": [],
   "source": [
    "dodgers_training_X_ohe_scaled = scaler.transform(dodgers_training_X_ohe)"
   ]
  },
  {
   "cell_type": "markdown",
   "metadata": {},
   "source": [
    "Scaling the data to remove mean and std deviation"
   ]
  },
  {
   "cell_type": "code",
   "execution_count": 12,
   "metadata": {},
   "outputs": [
    {
     "name": "stdout",
     "output_type": "stream",
     "text": [
      "original means of the training data=  temp                     73.642857\n",
      "month_APR                 0.160714\n",
      "month_AUG                 0.214286\n",
      "month_JUL                 0.089286\n",
      "month_JUN                 0.089286\n",
      "month_MAY                 0.232143\n",
      "month_OCT                 0.017857\n",
      "month_SEP                 0.196429\n",
      "day_of_week_Friday        0.178571\n",
      "day_of_week_Monday        0.142857\n",
      "day_of_week_Saturday      0.160714\n",
      "day_of_week_Sunday        0.196429\n",
      "day_of_week_Thursday      0.089286\n",
      "day_of_week_Tuesday       0.089286\n",
      "day_of_week_Wednesday     0.142857\n",
      "skies_Clear               0.803571\n",
      "skies_Cloudy              0.196429\n",
      "bobblehead_NO             0.910714\n",
      "bobblehead_YES            0.089286\n",
      "dtype: float64\n"
     ]
    }
   ],
   "source": [
    "print('original means of the training data= ', np.mean(dodgers_training_X_ohe, axis=0))"
   ]
  },
  {
   "cell_type": "markdown",
   "metadata": {},
   "source": [
    "The above describes the original mean of the predictors "
   ]
  },
  {
   "cell_type": "code",
   "execution_count": 13,
   "metadata": {},
   "outputs": [
    {
     "name": "stdout",
     "output_type": "stream",
     "text": [
      "original stds of the training data=  temp                     8.868944\n",
      "month_APR                0.367267\n",
      "month_AUG                0.410326\n",
      "month_JUL                0.285156\n",
      "month_JUN                0.285156\n",
      "month_MAY                0.422200\n",
      "month_OCT                0.132432\n",
      "month_SEP                0.397296\n",
      "day_of_week_Friday       0.382993\n",
      "day_of_week_Monday       0.349927\n",
      "day_of_week_Saturday     0.367267\n",
      "day_of_week_Sunday       0.397296\n",
      "day_of_week_Thursday     0.285156\n",
      "day_of_week_Tuesday      0.285156\n",
      "day_of_week_Wednesday    0.349927\n",
      "skies_Clear              0.397296\n",
      "skies_Cloudy             0.397296\n",
      "bobblehead_NO            0.285156\n",
      "bobblehead_YES           0.285156\n",
      "dtype: float64\n"
     ]
    }
   ],
   "source": [
    "print('original stds of the training data= ', np.std(dodgers_training_X_ohe, axis=0))"
   ]
  },
  {
   "cell_type": "markdown",
   "metadata": {},
   "source": [
    "The above gives the standard deviation of predictors for the training dataset"
   ]
  },
  {
   "cell_type": "markdown",
   "metadata": {},
   "source": [
    "<h3>Performing the same transformation for testing dataset"
   ]
  },
  {
   "cell_type": "code",
   "execution_count": 14,
   "metadata": {},
   "outputs": [],
   "source": [
    "df_test = pd.read_csv(\"dodgers_testing.csv\")"
   ]
  },
  {
   "cell_type": "code",
   "execution_count": 15,
   "metadata": {},
   "outputs": [],
   "source": [
    "dodgers_testing_X = df_test[[\"month\",\"day_of_week\",\"temp\",\"skies\",\"bobblehead\"]] # X refers to the predictors"
   ]
  },
  {
   "cell_type": "code",
   "execution_count": 16,
   "metadata": {},
   "outputs": [
    {
     "data": {
      "text/plain": [
       "(25, 1)"
      ]
     },
     "execution_count": 16,
     "metadata": {},
     "output_type": "execute_result"
    }
   ],
   "source": [
    "dodgers_testing_Y = df_test[[\"attend\"]] #Y refers to the target variable\n",
    "dodgers_testing_Y.shape"
   ]
  },
  {
   "cell_type": "code",
   "execution_count": 17,
   "metadata": {},
   "outputs": [],
   "source": [
    "dodgers_testing_X_ohe = pd.get_dummies(dodgers_testing_X)"
   ]
  },
  {
   "cell_type": "markdown",
   "metadata": {},
   "source": [
    "Performing one hot encoding for the test predictors"
   ]
  },
  {
   "cell_type": "code",
   "execution_count": 18,
   "metadata": {},
   "outputs": [
    {
     "data": {
      "text/plain": [
       "(25, 18)"
      ]
     },
     "execution_count": 18,
     "metadata": {},
     "output_type": "execute_result"
    }
   ],
   "source": [
    "dodgers_testing_X_ohe.shape"
   ]
  },
  {
   "cell_type": "code",
   "execution_count": 19,
   "metadata": {},
   "outputs": [
    {
     "data": {
      "text/plain": [
       "(56, 19)"
      ]
     },
     "execution_count": 19,
     "metadata": {},
     "output_type": "execute_result"
    }
   ],
   "source": [
    "dodgers_training_X_ohe.shape"
   ]
  },
  {
   "cell_type": "markdown",
   "metadata": {},
   "source": [
    "The training and the testing dataset have unequal number of columns. We need to make the number of columns same. "
   ]
  },
  {
   "cell_type": "code",
   "execution_count": 20,
   "metadata": {},
   "outputs": [],
   "source": [
    "list1 = dodgers_training_X_ohe.columns.tolist()"
   ]
  },
  {
   "cell_type": "code",
   "execution_count": 21,
   "metadata": {},
   "outputs": [],
   "source": [
    "list2 = dodgers_testing_X_ohe.columns.tolist()"
   ]
  },
  {
   "cell_type": "code",
   "execution_count": 22,
   "metadata": {},
   "outputs": [
    {
     "data": {
      "text/plain": [
       "['day_of_week_Thursday']"
      ]
     },
     "execution_count": 22,
     "metadata": {},
     "output_type": "execute_result"
    }
   ],
   "source": [
    "rem_col = list(set(list1) - set(list2))\n",
    "rem_col"
   ]
  },
  {
   "cell_type": "markdown",
   "metadata": {},
   "source": [
    "The above column is missing in the test dataset. We will be adding 'day_of_week_Thursday' in test dataset"
   ]
  },
  {
   "cell_type": "code",
   "execution_count": 23,
   "metadata": {},
   "outputs": [
    {
     "data": {
      "text/plain": [
       "['temp',\n",
       " 'month_APR',\n",
       " 'month_AUG',\n",
       " 'month_JUL',\n",
       " 'month_JUN',\n",
       " 'month_MAY',\n",
       " 'month_OCT',\n",
       " 'month_SEP',\n",
       " 'day_of_week_Friday',\n",
       " 'day_of_week_Monday',\n",
       " 'day_of_week_Saturday',\n",
       " 'day_of_week_Sunday',\n",
       " 'day_of_week_Thursday',\n",
       " 'day_of_week_Tuesday',\n",
       " 'day_of_week_Wednesday',\n",
       " 'skies_Clear ',\n",
       " 'skies_Cloudy',\n",
       " 'bobblehead_NO',\n",
       " 'bobblehead_YES']"
      ]
     },
     "execution_count": 23,
     "metadata": {},
     "output_type": "execute_result"
    }
   ],
   "source": [
    "list1"
   ]
  },
  {
   "cell_type": "code",
   "execution_count": 24,
   "metadata": {},
   "outputs": [
    {
     "data": {
      "text/plain": [
       "['temp',\n",
       " 'month_APR',\n",
       " 'month_AUG',\n",
       " 'month_JUL',\n",
       " 'month_JUN',\n",
       " 'month_MAY',\n",
       " 'month_OCT',\n",
       " 'month_SEP',\n",
       " 'day_of_week_Friday',\n",
       " 'day_of_week_Monday',\n",
       " 'day_of_week_Saturday',\n",
       " 'day_of_week_Sunday',\n",
       " 'day_of_week_Tuesday',\n",
       " 'day_of_week_Wednesday',\n",
       " 'skies_Clear ',\n",
       " 'skies_Cloudy',\n",
       " 'bobblehead_NO',\n",
       " 'bobblehead_YES']"
      ]
     },
     "execution_count": 24,
     "metadata": {},
     "output_type": "execute_result"
    }
   ],
   "source": [
    "list2"
   ]
  },
  {
   "cell_type": "code",
   "execution_count": 25,
   "metadata": {},
   "outputs": [],
   "source": [
    "idx = 12"
   ]
  },
  {
   "cell_type": "code",
   "execution_count": 26,
   "metadata": {},
   "outputs": [],
   "source": [
    "dodgers_testing_X_ohe.insert(loc = 12, column= rem_col[0], value=0 )"
   ]
  },
  {
   "cell_type": "code",
   "execution_count": 27,
   "metadata": {},
   "outputs": [
    {
     "data": {
      "text/plain": [
       "['temp',\n",
       " 'month_APR',\n",
       " 'month_AUG',\n",
       " 'month_JUL',\n",
       " 'month_JUN',\n",
       " 'month_MAY',\n",
       " 'month_OCT',\n",
       " 'month_SEP',\n",
       " 'day_of_week_Friday',\n",
       " 'day_of_week_Monday',\n",
       " 'day_of_week_Saturday',\n",
       " 'day_of_week_Sunday',\n",
       " 'day_of_week_Thursday',\n",
       " 'day_of_week_Tuesday',\n",
       " 'day_of_week_Wednesday',\n",
       " 'skies_Clear ',\n",
       " 'skies_Cloudy',\n",
       " 'bobblehead_NO',\n",
       " 'bobblehead_YES']"
      ]
     },
     "execution_count": 27,
     "metadata": {},
     "output_type": "execute_result"
    }
   ],
   "source": [
    "list3 = dodgers_testing_X_ohe.columns.tolist()\n",
    "list3"
   ]
  },
  {
   "cell_type": "code",
   "execution_count": 28,
   "metadata": {},
   "outputs": [
    {
     "data": {
      "text/html": [
       "<div>\n",
       "<style scoped>\n",
       "    .dataframe tbody tr th:only-of-type {\n",
       "        vertical-align: middle;\n",
       "    }\n",
       "\n",
       "    .dataframe tbody tr th {\n",
       "        vertical-align: top;\n",
       "    }\n",
       "\n",
       "    .dataframe thead th {\n",
       "        text-align: right;\n",
       "    }\n",
       "</style>\n",
       "<table border=\"1\" class=\"dataframe\">\n",
       "  <thead>\n",
       "    <tr style=\"text-align: right;\">\n",
       "      <th></th>\n",
       "      <th>temp</th>\n",
       "      <th>month_APR</th>\n",
       "      <th>month_AUG</th>\n",
       "      <th>month_JUL</th>\n",
       "      <th>month_JUN</th>\n",
       "      <th>month_MAY</th>\n",
       "      <th>month_OCT</th>\n",
       "      <th>month_SEP</th>\n",
       "      <th>day_of_week_Friday</th>\n",
       "      <th>day_of_week_Monday</th>\n",
       "      <th>day_of_week_Saturday</th>\n",
       "      <th>day_of_week_Sunday</th>\n",
       "      <th>day_of_week_Thursday</th>\n",
       "      <th>day_of_week_Tuesday</th>\n",
       "      <th>day_of_week_Wednesday</th>\n",
       "      <th>skies_Clear</th>\n",
       "      <th>skies_Cloudy</th>\n",
       "      <th>bobblehead_NO</th>\n",
       "      <th>bobblehead_YES</th>\n",
       "    </tr>\n",
       "  </thead>\n",
       "  <tbody>\n",
       "    <tr>\n",
       "      <th>0</th>\n",
       "      <td>75</td>\n",
       "      <td>0</td>\n",
       "      <td>1</td>\n",
       "      <td>0</td>\n",
       "      <td>0</td>\n",
       "      <td>0</td>\n",
       "      <td>0</td>\n",
       "      <td>0</td>\n",
       "      <td>0</td>\n",
       "      <td>0</td>\n",
       "      <td>0</td>\n",
       "      <td>0</td>\n",
       "      <td>0</td>\n",
       "      <td>0</td>\n",
       "      <td>1</td>\n",
       "      <td>1</td>\n",
       "      <td>0</td>\n",
       "      <td>1</td>\n",
       "      <td>0</td>\n",
       "    </tr>\n",
       "    <tr>\n",
       "      <th>1</th>\n",
       "      <td>68</td>\n",
       "      <td>0</td>\n",
       "      <td>0</td>\n",
       "      <td>0</td>\n",
       "      <td>1</td>\n",
       "      <td>0</td>\n",
       "      <td>0</td>\n",
       "      <td>0</td>\n",
       "      <td>0</td>\n",
       "      <td>0</td>\n",
       "      <td>1</td>\n",
       "      <td>0</td>\n",
       "      <td>0</td>\n",
       "      <td>0</td>\n",
       "      <td>0</td>\n",
       "      <td>1</td>\n",
       "      <td>0</td>\n",
       "      <td>1</td>\n",
       "      <td>0</td>\n",
       "    </tr>\n",
       "    <tr>\n",
       "      <th>2</th>\n",
       "      <td>79</td>\n",
       "      <td>0</td>\n",
       "      <td>1</td>\n",
       "      <td>0</td>\n",
       "      <td>0</td>\n",
       "      <td>0</td>\n",
       "      <td>0</td>\n",
       "      <td>0</td>\n",
       "      <td>0</td>\n",
       "      <td>1</td>\n",
       "      <td>0</td>\n",
       "      <td>0</td>\n",
       "      <td>0</td>\n",
       "      <td>0</td>\n",
       "      <td>0</td>\n",
       "      <td>1</td>\n",
       "      <td>0</td>\n",
       "      <td>1</td>\n",
       "      <td>0</td>\n",
       "    </tr>\n",
       "    <tr>\n",
       "      <th>3</th>\n",
       "      <td>66</td>\n",
       "      <td>0</td>\n",
       "      <td>0</td>\n",
       "      <td>0</td>\n",
       "      <td>1</td>\n",
       "      <td>0</td>\n",
       "      <td>0</td>\n",
       "      <td>0</td>\n",
       "      <td>0</td>\n",
       "      <td>0</td>\n",
       "      <td>0</td>\n",
       "      <td>0</td>\n",
       "      <td>0</td>\n",
       "      <td>1</td>\n",
       "      <td>0</td>\n",
       "      <td>0</td>\n",
       "      <td>1</td>\n",
       "      <td>0</td>\n",
       "      <td>1</td>\n",
       "    </tr>\n",
       "    <tr>\n",
       "      <th>4</th>\n",
       "      <td>75</td>\n",
       "      <td>0</td>\n",
       "      <td>0</td>\n",
       "      <td>1</td>\n",
       "      <td>0</td>\n",
       "      <td>0</td>\n",
       "      <td>0</td>\n",
       "      <td>0</td>\n",
       "      <td>0</td>\n",
       "      <td>0</td>\n",
       "      <td>0</td>\n",
       "      <td>1</td>\n",
       "      <td>0</td>\n",
       "      <td>0</td>\n",
       "      <td>0</td>\n",
       "      <td>1</td>\n",
       "      <td>0</td>\n",
       "      <td>0</td>\n",
       "      <td>1</td>\n",
       "    </tr>\n",
       "  </tbody>\n",
       "</table>\n",
       "</div>"
      ],
      "text/plain": [
       "   temp  month_APR  month_AUG  month_JUL  month_JUN  month_MAY  month_OCT  \\\n",
       "0    75          0          1          0          0          0          0   \n",
       "1    68          0          0          0          1          0          0   \n",
       "2    79          0          1          0          0          0          0   \n",
       "3    66          0          0          0          1          0          0   \n",
       "4    75          0          0          1          0          0          0   \n",
       "\n",
       "   month_SEP  day_of_week_Friday  day_of_week_Monday  day_of_week_Saturday  \\\n",
       "0          0                   0                   0                     0   \n",
       "1          0                   0                   0                     1   \n",
       "2          0                   0                   1                     0   \n",
       "3          0                   0                   0                     0   \n",
       "4          0                   0                   0                     0   \n",
       "\n",
       "   day_of_week_Sunday  day_of_week_Thursday  day_of_week_Tuesday  \\\n",
       "0                   0                     0                    0   \n",
       "1                   0                     0                    0   \n",
       "2                   0                     0                    0   \n",
       "3                   0                     0                    1   \n",
       "4                   1                     0                    0   \n",
       "\n",
       "   day_of_week_Wednesday  skies_Clear   skies_Cloudy  bobblehead_NO  \\\n",
       "0                      1             1             0              1   \n",
       "1                      0             1             0              1   \n",
       "2                      0             1             0              1   \n",
       "3                      0             0             1              0   \n",
       "4                      0             1             0              0   \n",
       "\n",
       "   bobblehead_YES  \n",
       "0               0  \n",
       "1               0  \n",
       "2               0  \n",
       "3               1  \n",
       "4               1  "
      ]
     },
     "execution_count": 28,
     "metadata": {},
     "output_type": "execute_result"
    }
   ],
   "source": [
    "dodgers_testing_X_ohe.head()"
   ]
  },
  {
   "cell_type": "code",
   "execution_count": 29,
   "metadata": {},
   "outputs": [],
   "source": [
    "dodgers_testing_X_ohe_scaled = scaler.transform(dodgers_testing_X_ohe)"
   ]
  },
  {
   "cell_type": "code",
   "execution_count": 30,
   "metadata": {},
   "outputs": [
    {
     "name": "stdout",
     "output_type": "stream",
     "text": [
      "original means of the testing data=  temp                     72.04\n",
      "month_APR                 0.12\n",
      "month_AUG                 0.12\n",
      "month_JUL                 0.28\n",
      "month_JUN                 0.16\n",
      "month_MAY                 0.20\n",
      "month_OCT                 0.08\n",
      "month_SEP                 0.04\n",
      "day_of_week_Friday        0.12\n",
      "day_of_week_Monday        0.16\n",
      "day_of_week_Saturday      0.16\n",
      "day_of_week_Sunday        0.08\n",
      "day_of_week_Thursday      0.00\n",
      "day_of_week_Tuesday       0.32\n",
      "day_of_week_Wednesday     0.16\n",
      "skies_Clear               0.68\n",
      "skies_Cloudy              0.32\n",
      "bobblehead_NO             0.76\n",
      "bobblehead_YES            0.24\n",
      "dtype: float64\n"
     ]
    }
   ],
   "source": [
    "print('original means of the testing data= ', np.mean(dodgers_testing_X_ohe, axis=0))"
   ]
  },
  {
   "cell_type": "markdown",
   "metadata": {},
   "source": [
    "The above describes the mean of the testing dataset predictors"
   ]
  },
  {
   "cell_type": "code",
   "execution_count": 31,
   "metadata": {},
   "outputs": [
    {
     "name": "stdout",
     "output_type": "stream",
     "text": [
      "original stds of the testing data=  temp                     6.587746\n",
      "month_APR                0.324962\n",
      "month_AUG                0.324962\n",
      "month_JUL                0.448999\n",
      "month_JUN                0.366606\n",
      "month_MAY                0.400000\n",
      "month_OCT                0.271293\n",
      "month_SEP                0.195959\n",
      "day_of_week_Friday       0.324962\n",
      "day_of_week_Monday       0.366606\n",
      "day_of_week_Saturday     0.366606\n",
      "day_of_week_Sunday       0.271293\n",
      "day_of_week_Thursday     0.000000\n",
      "day_of_week_Tuesday      0.466476\n",
      "day_of_week_Wednesday    0.366606\n",
      "skies_Clear              0.466476\n",
      "skies_Cloudy             0.466476\n",
      "bobblehead_NO            0.427083\n",
      "bobblehead_YES           0.427083\n",
      "dtype: float64\n"
     ]
    }
   ],
   "source": [
    "print('original stds of the testing data= ', np.std(dodgers_testing_X_ohe, axis=0))"
   ]
  },
  {
   "cell_type": "markdown",
   "metadata": {},
   "source": [
    "The above describes the standard deviation of the testing dataset predictors"
   ]
  },
  {
   "cell_type": "markdown",
   "metadata": {},
   "source": [
    "<h3>Performing Ridge Regression "
   ]
  },
  {
   "cell_type": "code",
   "execution_count": 32,
   "metadata": {},
   "outputs": [
    {
     "name": "stdout",
     "output_type": "stream",
     "text": [
      "alpha =  50.6\n",
      "coef =  [[  515.85380007  -273.56102806   457.54654532  -216.88248689\n",
      "   1102.57100111  -605.71237164   -75.78927596  -186.41964828\n",
      "     67.69322043  -835.67182144   490.25315842   238.14165655\n",
      "   -341.53918562  1070.28517076  -617.19884398   271.19412682\n",
      "   -271.19412682 -1145.58152754  1145.58152754]]\n",
      "R2 =  0.484627459673377\n"
     ]
    }
   ],
   "source": [
    "l2_cv = RidgeCV(cv=None, store_cv_values=True, alphas=np.linspace(0.1,1000,100))\n",
    "l2_cv.fit(dodgers_training_X_ohe_scaled, dodgers_training_Y)\n",
    "print('alpha = ', l2_cv.alpha_) \n",
    "print('coef = ', l2_cv.coef_)\n",
    "print('R2 = ', l2_cv.score(dodgers_training_X_ohe_scaled,dodgers_training_Y))"
   ]
  },
  {
   "cell_type": "markdown",
   "metadata": {},
   "source": [
    "<h3>Performing Lasso Regression "
   ]
  },
  {
   "cell_type": "code",
   "execution_count": 33,
   "metadata": {},
   "outputs": [
    {
     "name": "stderr",
     "output_type": "stream",
     "text": [
      "C:\\Users\\E6420\\Anaconda3\\lib\\site-packages\\sklearn\\linear_model\\coordinate_descent.py:1100: DataConversionWarning: A column-vector y was passed when a 1d array was expected. Please change the shape of y to (n_samples, ), for example using ravel().\n",
      "  y = column_or_1d(y, warn=True)\n",
      "C:\\Users\\E6420\\Anaconda3\\lib\\site-packages\\sklearn\\linear_model\\coordinate_descent.py:471: ConvergenceWarning: Objective did not converge. You might want to increase the number of iterations. Duality gap: 8421975.187109709, tolerance: 327227.5266181818\n",
      "  tol, rng, random, positive)\n",
      "C:\\Users\\E6420\\Anaconda3\\lib\\site-packages\\sklearn\\linear_model\\coordinate_descent.py:471: ConvergenceWarning: Objective did not converge. You might want to increase the number of iterations. Duality gap: 6684238.427566767, tolerance: 337617.7626181818\n",
      "  tol, rng, random, positive)\n",
      "C:\\Users\\E6420\\Anaconda3\\lib\\site-packages\\sklearn\\linear_model\\coordinate_descent.py:471: ConvergenceWarning: Objective did not converge. You might want to increase the number of iterations. Duality gap: 5431121.35532403, tolerance: 346719.5121709091\n",
      "  tol, rng, random, positive)\n",
      "C:\\Users\\E6420\\Anaconda3\\lib\\site-packages\\sklearn\\linear_model\\coordinate_descent.py:471: ConvergenceWarning: Objective did not converge. You might want to increase the number of iterations. Duality gap: 7965229.926921606, tolerance: 334643.94689090917\n",
      "  tol, rng, random, positive)\n",
      "C:\\Users\\E6420\\Anaconda3\\lib\\site-packages\\sklearn\\linear_model\\coordinate_descent.py:471: ConvergenceWarning: Objective did not converge. You might want to increase the number of iterations. Duality gap: 8427626.693322897, tolerance: 346668.1574836365\n",
      "  tol, rng, random, positive)\n",
      "C:\\Users\\E6420\\Anaconda3\\lib\\site-packages\\sklearn\\linear_model\\coordinate_descent.py:471: ConvergenceWarning: Objective did not converge. You might want to increase the number of iterations. Duality gap: 7126934.703383684, tolerance: 329806.04748\n",
      "  tol, rng, random, positive)\n",
      "C:\\Users\\E6420\\Anaconda3\\lib\\site-packages\\sklearn\\linear_model\\coordinate_descent.py:471: ConvergenceWarning: Objective did not converge. You might want to increase the number of iterations. Duality gap: 8508854.662349224, tolerance: 346303.1946836364\n",
      "  tol, rng, random, positive)\n",
      "C:\\Users\\E6420\\Anaconda3\\lib\\site-packages\\sklearn\\linear_model\\coordinate_descent.py:471: ConvergenceWarning: Objective did not converge. You might want to increase the number of iterations. Duality gap: 8486212.463306427, tolerance: 344618.1601927272\n",
      "  tol, rng, random, positive)\n",
      "C:\\Users\\E6420\\Anaconda3\\lib\\site-packages\\sklearn\\linear_model\\coordinate_descent.py:471: ConvergenceWarning: Objective did not converge. You might want to increase the number of iterations. Duality gap: 6691437.41242075, tolerance: 319559.06127999997\n",
      "  tol, rng, random, positive)\n"
     ]
    },
    {
     "data": {
      "text/plain": [
       "LassoCV(alphas=array([1.000e-01, 1.020e+01, 2.030e+01, 3.040e+01, 4.050e+01, 5.060e+01,\n",
       "       6.070e+01, 7.080e+01, 8.090e+01, 9.100e+01, 1.011e+02, 1.112e+02,\n",
       "       1.213e+02, 1.314e+02, 1.415e+02, 1.516e+02, 1.617e+02, 1.718e+02,\n",
       "       1.819e+02, 1.920e+02, 2.021e+02, 2.122e+02, 2.223e+02, 2.324e+02,\n",
       "       2.425e+02, 2.526e+02, 2.627e+02, 2.728e+02, 2.829e+02, 2.930e+02,\n",
       "       3.031e+02, 3.132e+02, 3.233e+0...\n",
       "       8.485e+02, 8.586e+02, 8.687e+02, 8.788e+02, 8.889e+02, 8.990e+02,\n",
       "       9.091e+02, 9.192e+02, 9.293e+02, 9.394e+02, 9.495e+02, 9.596e+02,\n",
       "       9.697e+02, 9.798e+02, 9.899e+02, 1.000e+03]),\n",
       "        copy_X=True, cv=56, eps=0.001, fit_intercept=True, max_iter=1000,\n",
       "        n_alphas=100, n_jobs=None, normalize=False, positive=False,\n",
       "        precompute='auto', random_state=None, selection='cyclic', tol=0.0001,\n",
       "        verbose=False)"
      ]
     },
     "execution_count": 33,
     "metadata": {},
     "output_type": "execute_result"
    }
   ],
   "source": [
    "no_of_folds = dodgers_training_X_ohe_scaled.shape[0]\n",
    "l1_cv = LassoCV(cv = no_of_folds,alphas=np.linspace(0.1,1000,100))\n",
    "l1_cv.fit(dodgers_training_X_ohe_scaled, dodgers_training_Y)"
   ]
  },
  {
   "cell_type": "code",
   "execution_count": 34,
   "metadata": {},
   "outputs": [
    {
     "name": "stdout",
     "output_type": "stream",
     "text": [
      "alpha =  484.9\n",
      "coef =  [  822.02575876    -0.           753.55887489     0.\n",
      "  1933.39956554  -124.74778286    -0.            -0.\n",
      "     0.         -1166.94119794   174.2067818      0.\n",
      "  -480.10809056  1382.28372468  -885.40353153     0.\n",
      "    -0.         -2640.57436296     0.        ]\n",
      "R2 =  0.5177144037948875\n"
     ]
    }
   ],
   "source": [
    "print('alpha = ', l1_cv.alpha_) \n",
    "print('coef = ', l1_cv.coef_)\n",
    "print('R2 = ', l1_cv.score(dodgers_training_X_ohe_scaled,dodgers_training_Y))"
   ]
  },
  {
   "cell_type": "code",
   "execution_count": 35,
   "metadata": {},
   "outputs": [
    {
     "data": {
      "text/plain": [
       "array(['temp', 'month_APR', 'month_AUG', 'month_JUL', 'month_JUN',\n",
       "       'month_MAY', 'month_OCT', 'month_SEP', 'day_of_week_Friday',\n",
       "       'day_of_week_Monday', 'day_of_week_Saturday', 'day_of_week_Sunday',\n",
       "       'day_of_week_Thursday', 'day_of_week_Tuesday',\n",
       "       'day_of_week_Wednesday', 'skies_Clear ', 'skies_Cloudy',\n",
       "       'bobblehead_NO', 'bobblehead_YES'], dtype='<U21')"
      ]
     },
     "execution_count": 35,
     "metadata": {},
     "output_type": "execute_result"
    }
   ],
   "source": [
    "np_cols_list = np.asarray(dodgers_training_X_ohe.columns.tolist())\n",
    "np_cols_list"
   ]
  },
  {
   "cell_type": "code",
   "execution_count": 36,
   "metadata": {},
   "outputs": [
    {
     "data": {
      "text/plain": [
       "masked_array(data=['temp', --, 'month_AUG', --, 'month_JUN', 'month_MAY',\n",
       "                   --, --, --, 'day_of_week_Monday',\n",
       "                   'day_of_week_Saturday', --, 'day_of_week_Thursday',\n",
       "                   'day_of_week_Tuesday', 'day_of_week_Wednesday', --, --,\n",
       "                   'bobblehead_NO', --],\n",
       "             mask=[False,  True, False,  True, False, False,  True,  True,\n",
       "                    True, False, False,  True, False, False, False,  True,\n",
       "                    True, False,  True],\n",
       "       fill_value='N/A',\n",
       "            dtype='<U21')"
      ]
     },
     "execution_count": 36,
     "metadata": {},
     "output_type": "execute_result"
    }
   ],
   "source": [
    "import numpy.ma as ma\n",
    "ma.masked_where(l1_cv.coef_ == 0 , np_cols_list)"
   ]
  },
  {
   "cell_type": "code",
   "execution_count": 37,
   "metadata": {},
   "outputs": [
    {
     "data": {
      "text/plain": [
       "numpy.ndarray"
      ]
     },
     "execution_count": 37,
     "metadata": {},
     "output_type": "execute_result"
    }
   ],
   "source": [
    "type(dodgers_training_X_ohe_scaled)"
   ]
  },
  {
   "cell_type": "code",
   "execution_count": 38,
   "metadata": {},
   "outputs": [
    {
     "data": {
      "text/plain": [
       "pandas.core.frame.DataFrame"
      ]
     },
     "execution_count": 38,
     "metadata": {},
     "output_type": "execute_result"
    }
   ],
   "source": [
    "type(dodgers_training_Y)"
   ]
  },
  {
   "cell_type": "markdown",
   "metadata": {},
   "source": [
    "<h3>linear regression without regularisation"
   ]
  },
  {
   "cell_type": "code",
   "execution_count": 39,
   "metadata": {},
   "outputs": [],
   "source": [
    "ols = linear_model.LinearRegression(fit_intercept=True)"
   ]
  },
  {
   "cell_type": "code",
   "execution_count": 40,
   "metadata": {},
   "outputs": [
    {
     "data": {
      "text/plain": [
       "LinearRegression(copy_X=True, fit_intercept=True, n_jobs=None, normalize=False)"
      ]
     },
     "execution_count": 40,
     "metadata": {},
     "output_type": "execute_result"
    }
   ],
   "source": [
    "ols.fit(dodgers_training_X_ohe_scaled, dodgers_training_Y)"
   ]
  },
  {
   "cell_type": "markdown",
   "metadata": {},
   "source": [
    "<h3> RMSE values for the linear models"
   ]
  },
  {
   "cell_type": "code",
   "execution_count": 41,
   "metadata": {},
   "outputs": [
    {
     "name": "stdout",
     "output_type": "stream",
     "text": [
      "L2 - RMSE train =  5648.864216385288\n",
      "L2 - RMSE test =  6710.582066280918\n",
      "L1 - RMSE train =  5464.527851899147\n",
      "L1 - RMSE test =  6804.544002873916\n",
      "simple Linear regression train error =  5254.5387249249425\n",
      "simple Linear regression test error =  7058.68452678261\n"
     ]
    }
   ],
   "source": [
    "#calculating RMSE on the Ridge L2 Regression with LOOCV \n",
    "l2_train_pred = l2_cv.predict(dodgers_training_X_ohe_scaled)\n",
    "print('L2 - RMSE train = ', np.sqrt(mean_squared_error(l2_train_pred,dodgers_training_Y)))\n",
    "\n",
    "\n",
    "l2_test_pred = l2_cv.predict(dodgers_testing_X_ohe_scaled)\n",
    "print('L2 - RMSE test = ', np.sqrt(mean_squared_error(l2_test_pred,dodgers_testing_Y)))\n",
    "\n",
    "\n",
    "#calculating RMSE on the Ridge L1 Regression with LOOCV \n",
    "l1_train_pred = l1_cv.predict(dodgers_training_X_ohe_scaled)\n",
    "print('L1 - RMSE train = ', np.sqrt(mean_squared_error(l1_train_pred,dodgers_training_Y)))\n",
    "\n",
    "l1_test_pred = l1_cv.predict(dodgers_testing_X_ohe_scaled)\n",
    "print('L1 - RMSE test = ', np.sqrt(mean_squared_error(l1_test_pred,dodgers_testing_Y)))\n",
    "\n",
    "#calculating RMSE for the linear model with no regularisation\n",
    "ols_train_pred =ols.predict(dodgers_training_X_ohe_scaled)\n",
    "\n",
    "print('simple Linear regression train error = ', np.sqrt(mean_squared_error(ols_train_pred,dodgers_training_Y)))\n",
    "\n",
    "ols_test_pred = ols.predict(dodgers_testing_X_ohe_scaled)\n",
    "print('simple Linear regression test error = ', np.sqrt(mean_squared_error(ols_test_pred,dodgers_testing_Y)))"
   ]
  },
  {
   "cell_type": "markdown",
   "metadata": {},
   "source": [
    "<h2>Regarding Expected RMSE"
   ]
  },
  {
   "cell_type": "code",
   "execution_count": 42,
   "metadata": {},
   "outputs": [
    {
     "data": {
      "text/plain": [
       "array([[7708.54106583, 7075.16783524, 6865.99968379, 6777.98459642,\n",
       "        6743.94251164, 6737.66094884, 6746.7084851 , 6764.50773761,\n",
       "        6787.32243574, 6812.92419597, 6839.93849484, 6867.49853321,\n",
       "        6895.05100865, 6922.24194653, 6948.84702062, 6974.72769677,\n",
       "        6999.80291926, 7024.03044277, 7047.39430834, 7069.89632101,\n",
       "        7091.55018431, 7112.37742773, 7132.40456188, 7151.661084  ,\n",
       "        7170.17807893, 7187.98724046, 7205.12019148, 7221.60801771,\n",
       "        7237.48095466, 7252.76818461, 7267.49771277, 7281.69630003,\n",
       "        7295.38943628, 7308.6013421 , 7321.35499051, 7333.67214216,\n",
       "        7345.57338942, 7357.07820605, 7368.20499989, 7378.97116677,\n",
       "        7389.39314452, 7399.48646603, 7409.26581084, 7418.74505472,\n",
       "        7427.93731724, 7436.85500685, 7445.50986368, 7453.91299994,\n",
       "        7462.07493793, 7470.00564579, 7477.71457107, 7485.21067213,\n",
       "        7492.50244765, 7499.59796415, 7506.50488179, 7513.23047847,\n",
       "        7519.78167238, 7526.16504306, 7532.38685114, 7538.45305673,\n",
       "        7544.36933666, 7550.14110059, 7555.77350613, 7561.27147287,\n",
       "        7566.6396957 , 7571.88265708, 7577.00463873, 7582.00973243,\n",
       "        7586.90185026, 7591.68473411, 7596.36196474, 7600.93697011,\n",
       "        7605.41303337, 7609.79330028, 7614.08078619, 7618.27838266,\n",
       "        7622.38886362, 7626.41489124, 7630.35902141, 7634.22370889,\n",
       "        7638.01131229, 7641.72409858, 7645.36424751, 7648.93385566,\n",
       "        7652.43494041, 7655.86944351, 7659.23923465, 7662.54611465,\n",
       "        7665.79181865, 7668.97801899, 7672.10632804, 7675.17830083,\n",
       "        7678.19543755, 7681.15918593, 7684.0709435 , 7686.93205973,\n",
       "        7689.74383805, 7692.5075378 , 7695.22437607, 7697.89552942]])"
      ]
     },
     "execution_count": 42,
     "metadata": {},
     "output_type": "execute_result"
    }
   ],
   "source": [
    "l2_emrs_values = np.sqrt(l2_cv.cv_values_.mean(axis=0))\n",
    "l2_emrs_values"
   ]
  },
  {
   "cell_type": "markdown",
   "metadata": {},
   "source": [
    "The above values are the values for each of the cross validation dataset.\n",
    "The expected EMRS of the model is the lowest Mean ERMS value beacuse the minimisation objection of the Ridge function is to find alpha for which EMRS is minimum"
   ]
  },
  {
   "cell_type": "code",
   "execution_count": 43,
   "metadata": {},
   "outputs": [
    {
     "name": "stdout",
     "output_type": "stream",
     "text": [
      "Expected RMSE for L2 model: 6737.660948839508\n"
     ]
    }
   ],
   "source": [
    "print(\"Expected RMSE for L2 model:\",np.min(l2_emrs_values))"
   ]
  },
  {
   "cell_type": "markdown",
   "metadata": {},
   "source": [
    "similarly we go for Lasso"
   ]
  },
  {
   "cell_type": "code",
   "execution_count": 44,
   "metadata": {},
   "outputs": [
    {
     "data": {
      "text/plain": [
       "array([7119.87119225, 7116.72422944, 7113.7633959 , 7110.92428887,\n",
       "       7108.25081733, 7105.40715323, 7102.49996441, 7099.83695787,\n",
       "       7097.32342698, 7094.66573241, 7091.67731755, 7088.50726245,\n",
       "       7085.54392242, 7082.75097676, 7080.23753576, 7077.89310148,\n",
       "       7075.85524742, 7074.12526699, 7072.77612531, 7071.6959351 ,\n",
       "       7070.96188729, 7070.23719484, 7069.4345852 , 7068.56251068,\n",
       "       7067.35398716, 7066.01305894, 7064.77562861, 7063.39825444,\n",
       "       7061.24920045, 7059.17043229, 7057.184863  , 7054.98658952,\n",
       "       7052.83763434, 7050.38933878, 7047.62694666, 7044.87088903,\n",
       "       7042.26037308, 7039.7966271 , 7037.46765972, 7035.25261231,\n",
       "       7033.14260996, 7031.15559944, 7029.42428596, 7028.13356611,\n",
       "       7027.09725465, 7026.35527866, 7025.68950892, 7023.96398739,\n",
       "       7022.38723557, 7020.99029856, 7019.85013223, 7018.95537342,\n",
       "       7019.81841145, 7022.21215893, 7025.08705177, 7028.34901019,\n",
       "       7031.84781738, 7035.32505543, 7038.65835404, 7042.20209496,\n",
       "       7047.05586445, 7052.4218676 , 7057.41439175, 7062.14976322,\n",
       "       7067.96598121, 7075.28474826, 7084.81157757, 7095.72325997,\n",
       "       7106.46657726, 7117.43782889, 7128.93379275, 7140.70419312,\n",
       "       7152.75151463, 7165.62499802, 7177.65110436, 7189.81381303,\n",
       "       7202.45157568, 7215.43593118, 7229.56362072, 7243.97221375,\n",
       "       7258.21814544, 7272.16523034, 7286.79507094, 7302.19005826,\n",
       "       7317.9128801 , 7333.86036356, 7350.05949523, 7367.33927585,\n",
       "       7387.50140682, 7410.02300103, 7432.82255793, 7455.56112355,\n",
       "       7480.60988926, 7508.9887476 , 7536.74652911, 7565.48737069,\n",
       "       7596.97509996, 7630.69890814, 7666.12828719, 7709.53285448])"
      ]
     },
     "execution_count": 44,
     "metadata": {},
     "output_type": "execute_result"
    }
   ],
   "source": [
    "l1_emrs_values = np.sqrt(l1_cv.mse_path_.mean(axis=1))\n",
    "l1_emrs_values"
   ]
  },
  {
   "cell_type": "markdown",
   "metadata": {},
   "source": [
    "The above values are the values for each of the cross validation dataset.\n",
    "The expected EMRS of the model is the lowest Mean ERMS value beacuse the minimisation objection of the Lasso function is to find alpha for which EMRS is minimum"
   ]
  },
  {
   "cell_type": "code",
   "execution_count": 45,
   "metadata": {},
   "outputs": [
    {
     "name": "stdout",
     "output_type": "stream",
     "text": [
      "Expected RMSE for L1 model: 7018.9553734195615\n"
     ]
    }
   ],
   "source": [
    "print(\"Expected RMSE for L1 model:\",np.min(l1_emrs_values))"
   ]
  },
  {
   "cell_type": "markdown",
   "metadata": {},
   "source": [
    "Please note that shape of the array for the error array has different shape. That's the reason we have taken aggregate over the rows and in the second case we have taken aggreate over column"
   ]
  },
  {
   "cell_type": "markdown",
   "metadata": {},
   "source": [
    "<h3> Sample Prediction"
   ]
  },
  {
   "cell_type": "markdown",
   "metadata": {},
   "source": [
    "let's try to predict the attendance on a <b>clear Monday in June</b> when <b>the expected temperature\n",
    "is 72 </b>for all three models <b>with and without bobbleheads</b>.\n",
    "Please note that the inputs are loaded form a sample file to simpify things. "
   ]
  },
  {
   "cell_type": "code",
   "execution_count": 46,
   "metadata": {},
   "outputs": [],
   "source": [
    "no_booble_head = pd.read_csv(\"input_no_bobble_head.csv\")"
   ]
  },
  {
   "cell_type": "code",
   "execution_count": 47,
   "metadata": {},
   "outputs": [
    {
     "data": {
      "text/html": [
       "<div>\n",
       "<style scoped>\n",
       "    .dataframe tbody tr th:only-of-type {\n",
       "        vertical-align: middle;\n",
       "    }\n",
       "\n",
       "    .dataframe tbody tr th {\n",
       "        vertical-align: top;\n",
       "    }\n",
       "\n",
       "    .dataframe thead th {\n",
       "        text-align: right;\n",
       "    }\n",
       "</style>\n",
       "<table border=\"1\" class=\"dataframe\">\n",
       "  <thead>\n",
       "    <tr style=\"text-align: right;\">\n",
       "      <th></th>\n",
       "      <th>temp</th>\n",
       "      <th>month_APR</th>\n",
       "      <th>month_AUG</th>\n",
       "      <th>month_JUL</th>\n",
       "      <th>month_JUN</th>\n",
       "      <th>month_MAY</th>\n",
       "      <th>month_OCT</th>\n",
       "      <th>month_SEP</th>\n",
       "      <th>day_of_week_Friday</th>\n",
       "      <th>day_of_week_Monday</th>\n",
       "      <th>day_of_week_Saturday</th>\n",
       "      <th>day_of_week_Sunday</th>\n",
       "      <th>day_of_week_Thursday</th>\n",
       "      <th>day_of_week_Tuesday</th>\n",
       "      <th>day_of_week_Wednesday</th>\n",
       "      <th>skies_Clear</th>\n",
       "      <th>skies_Cloudy</th>\n",
       "      <th>bobblehead_NO</th>\n",
       "      <th>bobblehead_YES</th>\n",
       "    </tr>\n",
       "  </thead>\n",
       "  <tbody>\n",
       "    <tr>\n",
       "      <th>0</th>\n",
       "      <td>72</td>\n",
       "      <td>0</td>\n",
       "      <td>0</td>\n",
       "      <td>0</td>\n",
       "      <td>1</td>\n",
       "      <td>0</td>\n",
       "      <td>0</td>\n",
       "      <td>0</td>\n",
       "      <td>0</td>\n",
       "      <td>1</td>\n",
       "      <td>0</td>\n",
       "      <td>0</td>\n",
       "      <td>0</td>\n",
       "      <td>0</td>\n",
       "      <td>0</td>\n",
       "      <td>1</td>\n",
       "      <td>0</td>\n",
       "      <td>1</td>\n",
       "      <td>0</td>\n",
       "    </tr>\n",
       "  </tbody>\n",
       "</table>\n",
       "</div>"
      ],
      "text/plain": [
       "   temp  month_APR  month_AUG  month_JUL  month_JUN  month_MAY  month_OCT  \\\n",
       "0    72          0          0          0          1          0          0   \n",
       "\n",
       "   month_SEP  day_of_week_Friday  day_of_week_Monday  day_of_week_Saturday  \\\n",
       "0          0                   0                   1                     0   \n",
       "\n",
       "   day_of_week_Sunday  day_of_week_Thursday  day_of_week_Tuesday  \\\n",
       "0                   0                     0                    0   \n",
       "\n",
       "   day_of_week_Wednesday  skies_Clear   skies_Cloudy  bobblehead_NO  \\\n",
       "0                      0             1             0              1   \n",
       "\n",
       "   bobblehead_YES  \n",
       "0               0  "
      ]
     },
     "execution_count": 47,
     "metadata": {},
     "output_type": "execute_result"
    }
   ],
   "source": [
    "no_booble_head"
   ]
  },
  {
   "cell_type": "code",
   "execution_count": 48,
   "metadata": {},
   "outputs": [],
   "source": [
    "yes_bobble_head = pd.read_csv(\"input_yes_bobble_head.csv\")"
   ]
  },
  {
   "cell_type": "code",
   "execution_count": 49,
   "metadata": {},
   "outputs": [
    {
     "data": {
      "text/html": [
       "<div>\n",
       "<style scoped>\n",
       "    .dataframe tbody tr th:only-of-type {\n",
       "        vertical-align: middle;\n",
       "    }\n",
       "\n",
       "    .dataframe tbody tr th {\n",
       "        vertical-align: top;\n",
       "    }\n",
       "\n",
       "    .dataframe thead th {\n",
       "        text-align: right;\n",
       "    }\n",
       "</style>\n",
       "<table border=\"1\" class=\"dataframe\">\n",
       "  <thead>\n",
       "    <tr style=\"text-align: right;\">\n",
       "      <th></th>\n",
       "      <th>temp</th>\n",
       "      <th>month_APR</th>\n",
       "      <th>month_AUG</th>\n",
       "      <th>month_JUL</th>\n",
       "      <th>month_JUN</th>\n",
       "      <th>month_MAY</th>\n",
       "      <th>month_OCT</th>\n",
       "      <th>month_SEP</th>\n",
       "      <th>day_of_week_Friday</th>\n",
       "      <th>day_of_week_Monday</th>\n",
       "      <th>day_of_week_Saturday</th>\n",
       "      <th>day_of_week_Sunday</th>\n",
       "      <th>day_of_week_Thursday</th>\n",
       "      <th>day_of_week_Tuesday</th>\n",
       "      <th>day_of_week_Wednesday</th>\n",
       "      <th>skies_Clear</th>\n",
       "      <th>skies_Cloudy</th>\n",
       "      <th>bobblehead_NO</th>\n",
       "      <th>bobblehead_YES</th>\n",
       "    </tr>\n",
       "  </thead>\n",
       "  <tbody>\n",
       "    <tr>\n",
       "      <th>0</th>\n",
       "      <td>72</td>\n",
       "      <td>0</td>\n",
       "      <td>0</td>\n",
       "      <td>0</td>\n",
       "      <td>1</td>\n",
       "      <td>0</td>\n",
       "      <td>0</td>\n",
       "      <td>0</td>\n",
       "      <td>0</td>\n",
       "      <td>1</td>\n",
       "      <td>0</td>\n",
       "      <td>0</td>\n",
       "      <td>0</td>\n",
       "      <td>0</td>\n",
       "      <td>0</td>\n",
       "      <td>1</td>\n",
       "      <td>0</td>\n",
       "      <td>0</td>\n",
       "      <td>1</td>\n",
       "    </tr>\n",
       "  </tbody>\n",
       "</table>\n",
       "</div>"
      ],
      "text/plain": [
       "   temp  month_APR  month_AUG  month_JUL  month_JUN  month_MAY  month_OCT  \\\n",
       "0    72          0          0          0          1          0          0   \n",
       "\n",
       "   month_SEP  day_of_week_Friday  day_of_week_Monday  day_of_week_Saturday  \\\n",
       "0          0                   0                   1                     0   \n",
       "\n",
       "   day_of_week_Sunday  day_of_week_Thursday  day_of_week_Tuesday  \\\n",
       "0                   0                     0                    0   \n",
       "\n",
       "   day_of_week_Wednesday  skies_Clear   skies_Cloudy  bobblehead_NO  \\\n",
       "0                      0             1             0              0   \n",
       "\n",
       "   bobblehead_YES  \n",
       "0               1  "
      ]
     },
     "execution_count": 49,
     "metadata": {},
     "output_type": "execute_result"
    }
   ],
   "source": [
    "yes_bobble_head"
   ]
  },
  {
   "cell_type": "code",
   "execution_count": 50,
   "metadata": {},
   "outputs": [],
   "source": [
    "no_booble_head_scaled = scaler.transform(no_booble_head)\n",
    "yes_booble_head_scaled = scaler.transform(yes_bobble_head)"
   ]
  },
  {
   "cell_type": "markdown",
   "metadata": {},
   "source": [
    "<h3>Predictions using L2 - Ridge, L1- Lasso, Simple Regression Model"
   ]
  },
  {
   "cell_type": "code",
   "execution_count": 51,
   "metadata": {},
   "outputs": [],
   "source": [
    "#Ridge\n",
    "no_booble_head_scaled_prediction_l2 = l2_cv.predict(no_booble_head_scaled)\n",
    "yes_booble_head_scaled_prediction_l2 = l2_cv.predict(yes_booble_head_scaled)"
   ]
  },
  {
   "cell_type": "code",
   "execution_count": 52,
   "metadata": {},
   "outputs": [
    {
     "data": {
      "text/plain": [
       "array([[40638.44252892]])"
      ]
     },
     "execution_count": 52,
     "metadata": {},
     "output_type": "execute_result"
    }
   ],
   "source": [
    "no_booble_head_scaled_prediction_l2"
   ]
  },
  {
   "cell_type": "code",
   "execution_count": 53,
   "metadata": {},
   "outputs": [
    {
     "data": {
      "text/plain": [
       "array([[48673.22150451]])"
      ]
     },
     "execution_count": 53,
     "metadata": {},
     "output_type": "execute_result"
    }
   ],
   "source": [
    "yes_booble_head_scaled_prediction_l2"
   ]
  },
  {
   "cell_type": "code",
   "execution_count": 54,
   "metadata": {},
   "outputs": [
    {
     "name": "stdout",
     "output_type": "stream",
     "text": [
      "Difference in attendance: 8034.778975592846\n"
     ]
    }
   ],
   "source": [
    "print(\"Difference in attendance:\",(yes_booble_head_scaled_prediction_l2[0] - no_booble_head_scaled_prediction_l2[0])[0])"
   ]
  },
  {
   "cell_type": "code",
   "execution_count": 55,
   "metadata": {},
   "outputs": [],
   "source": [
    "#Laaso\n",
    "no_booble_head_scaled_prediction_l1 = l1_cv.predict(no_booble_head_scaled)\n",
    "yes_booble_head_scaled_prediction_l1 = l1_cv.predict(yes_booble_head_scaled)"
   ]
  },
  {
   "cell_type": "code",
   "execution_count": 56,
   "metadata": {},
   "outputs": [
    {
     "data": {
      "text/plain": [
       "array([41679.9190964])"
      ]
     },
     "execution_count": 56,
     "metadata": {},
     "output_type": "execute_result"
    }
   ],
   "source": [
    "no_booble_head_scaled_prediction_l1"
   ]
  },
  {
   "cell_type": "code",
   "execution_count": 57,
   "metadata": {},
   "outputs": [
    {
     "data": {
      "text/plain": [
       "array([50940.03322401])"
      ]
     },
     "execution_count": 57,
     "metadata": {},
     "output_type": "execute_result"
    }
   ],
   "source": [
    "yes_booble_head_scaled_prediction_l1"
   ]
  },
  {
   "cell_type": "code",
   "execution_count": 58,
   "metadata": {},
   "outputs": [
    {
     "name": "stdout",
     "output_type": "stream",
     "text": [
      "Difference in attendance: 9260.114127606044\n"
     ]
    }
   ],
   "source": [
    "print(\"Difference in attendance:\",(yes_booble_head_scaled_prediction_l1[0] - no_booble_head_scaled_prediction_l1[0]))"
   ]
  },
  {
   "cell_type": "code",
   "execution_count": 59,
   "metadata": {},
   "outputs": [],
   "source": [
    "#simple regression\n",
    "no_booble_head_scaled_prediction_ols = ols.predict(no_booble_head_scaled)\n",
    "yes_booble_head_scaled_prediction_ols = ols.predict(yes_booble_head_scaled)"
   ]
  },
  {
   "cell_type": "code",
   "execution_count": 60,
   "metadata": {},
   "outputs": [
    {
     "data": {
      "text/plain": [
       "array([[41823.22849175]])"
      ]
     },
     "execution_count": 60,
     "metadata": {},
     "output_type": "execute_result"
    }
   ],
   "source": [
    "no_booble_head_scaled_prediction_ols"
   ]
  },
  {
   "cell_type": "code",
   "execution_count": 61,
   "metadata": {},
   "outputs": [
    {
     "data": {
      "text/plain": [
       "array([[51684.84997165]])"
      ]
     },
     "execution_count": 61,
     "metadata": {},
     "output_type": "execute_result"
    }
   ],
   "source": [
    "yes_booble_head_scaled_prediction_ols"
   ]
  },
  {
   "cell_type": "code",
   "execution_count": 62,
   "metadata": {},
   "outputs": [
    {
     "name": "stdout",
     "output_type": "stream",
     "text": [
      "Difference in attendance: 9861.621479891895\n"
     ]
    }
   ],
   "source": [
    "print(\"Difference in attendance:\",(yes_booble_head_scaled_prediction_ols[0] - no_booble_head_scaled_prediction_ols[0])[0])"
   ]
  },
  {
   "cell_type": "markdown",
   "metadata": {},
   "source": [
    "<h3> Result "
   ]
  },
  {
   "cell_type": "markdown",
   "metadata": {},
   "source": [
    "<b>We can clearly see that if we give the bobble head there is an increase in the number of attendees. So giving bobble heads is benificial for the game</b>"
   ]
  }
 ],
 "metadata": {
  "kernelspec": {
   "display_name": "Python 3",
   "language": "python",
   "name": "python3"
  },
  "language_info": {
   "codemirror_mode": {
    "name": "ipython",
    "version": 3
   },
   "file_extension": ".py",
   "mimetype": "text/x-python",
   "name": "python",
   "nbconvert_exporter": "python",
   "pygments_lexer": "ipython3",
   "version": "3.7.0"
  }
 },
 "nbformat": 4,
 "nbformat_minor": 2
}
